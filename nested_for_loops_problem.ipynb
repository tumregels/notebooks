{
 "cells": [
  {
   "cell_type": "markdown",
   "metadata": {},
   "source": [
    "# Problem"
   ]
  },
  {
   "cell_type": "code",
   "execution_count": 1,
   "metadata": {
    "collapsed": false
   },
   "outputs": [
    {
     "data": {
      "text/plain": [
       "(12, 18)"
      ]
     },
     "execution_count": 1,
     "metadata": {},
     "output_type": "execute_result"
    }
   ],
   "source": [
    "# For example, how can I examine pairs of characters in a string, stopping when I find an equal pair?\n",
    "\n",
    "s = \"a string to examine\"\n",
    "for i in range(len(s)):\n",
    "    for j in range(i+1, len(s)):\n",
    "        if s[i] == s[j]:\n",
    "            answer = (i, j)\n",
    "            break   # How to break twice???\n",
    "            \n",
    "answer"
   ]
  },
  {
   "cell_type": "markdown",
   "metadata": {},
   "source": [
    "# Solutions"
   ]
  },
  {
   "cell_type": "code",
   "execution_count": 2,
   "metadata": {
    "collapsed": false
   },
   "outputs": [
    {
     "data": {
      "text/plain": [
       "(0, 14)"
      ]
     },
     "execution_count": 2,
     "metadata": {},
     "output_type": "execute_result"
    }
   ],
   "source": [
    "s = \"a string to examine\"\n",
    "for i in range(len(s)):\n",
    "    for j in range(i+1, len(s)):\n",
    "        if s[i] == s[j]:\n",
    "            answer = (i, j)\n",
    "            break\n",
    "    else:\n",
    "        continue\n",
    "    break\n",
    "    \n",
    "answer"
   ]
  },
  {
   "cell_type": "code",
   "execution_count": 3,
   "metadata": {
    "collapsed": false
   },
   "outputs": [
    {
     "data": {
      "text/plain": [
       "(0, 14)"
      ]
     },
     "execution_count": 3,
     "metadata": {},
     "output_type": "execute_result"
    }
   ],
   "source": [
    "def unique_pairs(n):\n",
    "    \"\"\"Produce pairs of indexes in range(n)\"\"\"\n",
    "    for i in range(n):\n",
    "        for j in range(i+1, n):\n",
    "            yield i, j\n",
    "\n",
    "s = \"a string to examine\"\n",
    "for i, j in unique_pairs(len(s)):\n",
    "    if s[i] == s[j]:\n",
    "        answer = (i, j)\n",
    "        break\n",
    "        \n",
    "answer"
   ]
  },
  {
   "cell_type": "code",
   "execution_count": 4,
   "metadata": {
    "collapsed": false
   },
   "outputs": [
    {
     "data": {
      "text/plain": [
       "(0, 14)"
      ]
     },
     "execution_count": 4,
     "metadata": {},
     "output_type": "execute_result"
    }
   ],
   "source": [
    "s = \"a string to examine\"\n",
    "it = ((i, j) for i in range(len(s)) for j in range(i + 1, len(s)))\n",
    "\n",
    "for i, j in it:\n",
    "    if s[i] == s[j]:\n",
    "        answer = (i, j)\n",
    "        break\n",
    "        \n",
    "answer"
   ]
  },
  {
   "cell_type": "code",
   "execution_count": 5,
   "metadata": {
    "collapsed": false
   },
   "outputs": [
    {
     "data": {
      "text/plain": [
       "(0, 14)"
      ]
     },
     "execution_count": 5,
     "metadata": {},
     "output_type": "execute_result"
    }
   ],
   "source": [
    "s = \"a string to examine\"\n",
    "answer = next(\n",
    "    (i, j)\n",
    "    for i in range(len(s))\n",
    "    for j in range(i + 1, len(s))\n",
    "    if s[i] == s[j]\n",
    ")\n",
    "\n",
    "answer"
   ]
  },
  {
   "cell_type": "code",
   "execution_count": 6,
   "metadata": {
    "collapsed": false
   },
   "outputs": [
    {
     "data": {
      "text/plain": [
       "(0, 14)"
      ]
     },
     "execution_count": 6,
     "metadata": {},
     "output_type": "execute_result"
    }
   ],
   "source": [
    "from itertools import combinations\n",
    "\n",
    "for (i, a), (j, b) in combinations(enumerate(s), 2):\n",
    "    if a == b:\n",
    "        answer = i, j\n",
    "        break\n",
    "else:\n",
    "    print(\"Failed to find a matching pair — what now?\")\n",
    "    \n",
    "answer"
   ]
  },
  {
   "cell_type": "code",
   "execution_count": 7,
   "metadata": {
    "collapsed": false
   },
   "outputs": [
    {
     "data": {
      "text/plain": [
       "(0, 14)"
      ]
     },
     "execution_count": 7,
     "metadata": {},
     "output_type": "execute_result"
    }
   ],
   "source": [
    "from itertools import combinations\n",
    "\n",
    "def unique_pairs(n):\n",
    "    \"\"\"Produce pairs of indexes in range(n)\"\"\"\n",
    "    return combinations(range(n), 2)\n",
    "\n",
    "s = \"a string to examine\"\n",
    "for i, j in unique_pairs(len(s)):\n",
    "    if s[i] == s[j]:\n",
    "        answer = (i, j)\n",
    "        break\n",
    "        \n",
    "answer"
   ]
  },
  {
   "cell_type": "markdown",
   "metadata": {},
   "source": [
    "# References\n",
    "\n",
    "http://nedbatchelder.com//blog/201608/breaking_out_of_two_loops.html"
   ]
  }
 ],
 "metadata": {
  "kernelspec": {
   "display_name": "Python 3",
   "language": "python",
   "name": "python3"
  },
  "language_info": {
   "codemirror_mode": {
    "name": "ipython",
    "version": 3
   },
   "file_extension": ".py",
   "mimetype": "text/x-python",
   "name": "python",
   "nbconvert_exporter": "python",
   "pygments_lexer": "ipython3",
   "version": "3.5.2"
  }
 },
 "nbformat": 4,
 "nbformat_minor": 0
}
